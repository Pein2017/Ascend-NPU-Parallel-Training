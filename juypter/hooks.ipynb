{
 "cells": [
  {
   "cell_type": "code",
   "execution_count": 5,
   "metadata": {},
   "outputs": [
    {
     "ename": "",
     "evalue": "",
     "output_type": "error",
     "traceback": [
      "\u001b[1;31m在当前单元格或上一个单元格中执行代码时 Kernel 崩溃。\n",
      "\u001b[1;31m请查看单元格中的代码，以确定故障的可能原因。\n",
      "\u001b[1;31m单击<a href='https://aka.ms/vscodeJupyterKernelCrash'>此处</a>了解详细信息。\n",
      "\u001b[1;31m有关更多详细信息，请查看 Jupyter <a href='command:jupyter.viewOutput'>log</a>。"
     ]
    }
   ],
   "source": [
    "import sys\n",
    "import random\n",
    "import warnings\n",
    "from typing import Dict\n",
    "\n",
    "import torch\n",
    "import torch.backends.cudnn as cudnn\n",
    "import torch.multiprocessing as mp\n",
    "import torch.utils.data.distributed\n",
    "import torch_npu  # noqa: F401\n",
    "\n",
    "# 将模块所在的目录路径添加到 sys.path\n",
    "module_path = '/data/Pein/Pytorch/Ascend-NPU-Parallel-Training/src'\n",
    "if module_path not in sys.path:\n",
    "    sys.path.append(module_path)\n",
    "\n",
    "from config import config_from_yaml as config\n",
    "from data_loader import get_dataloaders\n",
    "from model import load_or_create_model\n",
    "from utilis import device_id_to_process_device_map\n",
    "from worker import main_worker\n",
    "from main import setup_deterministic_mode, setup_environment, verify_and_download_dataset, start_worker\n"
   ]
  },
  {
   "cell_type": "markdown",
   "metadata": {},
   "source": [
    "#### main()"
   ]
  },
  {
   "cell_type": "code",
   "execution_count": null,
   "metadata": {},
   "outputs": [],
   "source": [
    "seed = config['training'].get('seed', None)\n",
    "setup_environment(config)\n",
    "verify_and_download_dataset(config)\n",
    "\n",
    "start_worker(config)"
   ]
  }
 ],
 "metadata": {
  "kernelspec": {
   "display_name": "Pein38",
   "language": "python",
   "name": "python3"
  },
  "language_info": {
   "codemirror_mode": {
    "name": "ipython",
    "version": 3
   },
   "file_extension": ".py",
   "mimetype": "text/x-python",
   "name": "python",
   "nbconvert_exporter": "python",
   "pygments_lexer": "ipython3",
   "version": "3.8.18"
  }
 },
 "nbformat": 4,
 "nbformat_minor": 2
}
